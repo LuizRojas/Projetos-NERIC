{
 "cells": [
  {
   "cell_type": "markdown",
   "metadata": {},
   "source": [
    "### Modulo Random e Secrets ###"
   ]
  },
  {
   "cell_type": "code",
   "execution_count": 2,
   "metadata": {},
   "outputs": [],
   "source": [
    "import random\n",
    "import secrets\n",
    "import string"
   ]
  },
  {
   "cell_type": "code",
   "execution_count": 5,
   "metadata": {},
   "outputs": [
    {
     "name": "stdout",
     "output_type": "stream",
     "text": [
      "ThzURw7Jw3uGexDxB1hc\n"
     ]
    }
   ],
   "source": [
    "# O módulo secrets é usado para gerar números aleatórios criptograficamente fortes,\n",
    "# adequados para o gerenciamento de dados, como senhas, autenticação de conta,\n",
    "# tokens de segurança e segredos relacionados.\n",
    "\n",
    "alfabeto_ascii = string.ascii_letters + string.digits  # um conjunto de caracteres com letras e digitos\n",
    "\n",
    "try: \n",
    "    tamanho = int(input('Qual o tamanho da senha que deseja gerar: '))\n",
    "except:\n",
    "    tamanho = int(input(\"Digite um valor inteiro valido: \"))\n",
    "\n",
    "senha = ''.join(secrets.choice(alfabeto_ascii) for caractere in range(tamanho))\n",
    "print(senha)"
   ]
  },
  {
   "cell_type": "markdown",
   "metadata": {},
   "source": [
    "<h1>Nota:</h1>\n",
    "<p>Os aplicativos não devem armazenar senhas em um formato recuperável,<br>\n",
    "seja em texto simples ou criptografado. Elas devem ser salgadas e transformadas<br>\n",
    "em hash usando uma função hash de sentido único criptograficamente forte (irreversível).<br></p>"
   ]
  },
  {
   "cell_type": "code",
   "execution_count": null,
   "metadata": {},
   "outputs": [],
   "source": [
    "# Gerar uma senha alfanumérica de dez caracteres com pelo\n",
    "# menos um caractere minúsculo, pelo menos um caractere\n",
    "# maiúsculo e pelo menos três dígitos:\n",
    "\n",
    "import string\n",
    "alfabeto = string.ascii_letters + string.digits\n",
    "while True:\n",
    "    senha = ''.join(secrets.choice(alfabeto) for caractere in range(10))  # 10 caracteres\n",
    "    if (any(c.islower() for c in senha) and any(c.issupper() for c in senha) and sum(c.isdigit() for c in senha) >= 3):\n",
    "        # caso a senha tenha minusculas maiusculas e digitos...\n",
    "        break\n"
   ]
  }
 ],
 "metadata": {
  "kernelspec": {
   "display_name": "venv",
   "language": "python",
   "name": "python3"
  },
  "language_info": {
   "codemirror_mode": {
    "name": "ipython",
    "version": 3
   },
   "file_extension": ".py",
   "mimetype": "text/x-python",
   "name": "python",
   "nbconvert_exporter": "python",
   "pygments_lexer": "ipython3",
   "version": "3.13.2"
  }
 },
 "nbformat": 4,
 "nbformat_minor": 2
}
